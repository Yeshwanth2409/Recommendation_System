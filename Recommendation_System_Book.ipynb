{
 "cells": [
  {
   "cell_type": "code",
   "execution_count": 1,
   "id": "922b5e56",
   "metadata": {},
   "outputs": [],
   "source": [
    "import pandas as pd\n",
    "from sklearn.feature_extraction.text import CountVectorizer\n",
    "from sklearn.metrics.pairwise import cosine_similarity"
   ]
  },
  {
   "cell_type": "code",
   "execution_count": 3,
   "id": "ebabefaf",
   "metadata": {},
   "outputs": [],
   "source": [
    "# Load the dataset\n",
    "data = pd.read_csv('/Users/yeshwanthsatyadev/Desktop/Book4.csv')"
   ]
  },
  {
   "cell_type": "code",
   "execution_count": 4,
   "id": "2ed9e6e9",
   "metadata": {},
   "outputs": [
    {
     "name": "stdout",
     "output_type": "stream",
     "text": [
      "   Index  User.ID                                         Book.Title  \\\n",
      "0      1   276726                                Classical Mythology   \n",
      "1      2   276729                                       Clara Callan   \n",
      "2      3   276729                               Decision in Normandy   \n",
      "3      4   276736  Flu: The Story of the Great Influenza Pandemic...   \n",
      "4      5   276737                             The Mummies of Urumchi   \n",
      "\n",
      "   Book.Rating  \n",
      "0            5  \n",
      "1            3  \n",
      "2            6  \n",
      "3            8  \n",
      "4            6  \n"
     ]
    }
   ],
   "source": [
    "# Display the first few rows of the dataset\n",
    "print(data.head())\n",
    "\n",
    "# Create a user-item matrix (pivot table)\n",
    "user_item_matrix = data.pivot_table(index='User.ID', columns='Book.Title', values='Book.Rating', fill_value=0)"
   ]
  },
  {
   "cell_type": "code",
   "execution_count": 5,
   "id": "a758212a",
   "metadata": {},
   "outputs": [],
   "source": [
    "# Compute cosine similarity between items (books)\n",
    "cosine_sim = cosine_similarity(user_item_matrix.T)"
   ]
  },
  {
   "cell_type": "code",
   "execution_count": 6,
   "id": "e6f5222c",
   "metadata": {},
   "outputs": [],
   "source": [
    "# Function to get book recommendations based on cosine similarity\n",
    "def get_recommendations(book_title, cosine_sim=cosine_sim):\n",
    "    # Get the index of the book\n",
    "    book_index = user_item_matrix.columns.get_loc(book_title)\n",
    "\n",
    "    # Get the cosine similarity scores for all books\n",
    "    sim_scores = list(enumerate(cosine_sim[book_index]))\n",
    "\n",
    "    # Sort the books based on similarity scores\n",
    "    sim_scores = sorted(sim_scores, key=lambda x: x[1], reverse=True)\n",
    "\n",
    "    # Get the indices of the top N most similar books\n",
    "    top_books_indices = [i for i, _ in sim_scores]\n",
    "\n",
    "    # Exclude the input book from recommendations\n",
    "    top_books_indices = [i for i in top_books_indices if i != book_index]\n",
    "\n",
    "    # Get the top N recommended books\n",
    "    top_books = user_item_matrix.columns[top_books_indices]\n",
    "\n",
    "    return top_books"
   ]
  },
  {
   "cell_type": "code",
   "execution_count": 7,
   "id": "5ba53671",
   "metadata": {},
   "outputs": [],
   "source": [
    "# Example: Get recommendations for a specific book\n",
    "book_title = 'Classical Mythology'\n",
    "recommendations = get_recommendations(book_title)"
   ]
  },
  {
   "cell_type": "code",
   "execution_count": 8,
   "id": "0832f252",
   "metadata": {},
   "outputs": [
    {
     "name": "stdout",
     "output_type": "stream",
     "text": [
      "Recommendations for 'Classical Mythology':\n",
      "Index([''48',\n",
      "       ''O Au No Keia: Voices from Hawai'I's Mahu and Transgender Communities',\n",
      "       '...AND THE HORSE HE RODE IN ON : THE PEOPLE V. KENNETH STARR',\n",
      "       '01-01-00: A Novel of the Millennium',\n",
      "       '1,401 More Things That P*Ss Me Off', '10 Commandments Of Dating',\n",
      "       '100 Great Fantasy Short, Short Stories',\n",
      "       '1001 Brilliant Ways to Checkmate',\n",
      "       '101 Bright Ideas: Esl Activities for All Ages', '101 Dalmatians',\n",
      "       ...\n",
      "       '\\I Won't Learn from You\\: And Other Thoughts on Creative Maladjustment',\n",
      "       '\\More More More,\\ Said the Baby', '\\O\\ Is for Outlaw',\n",
      "       '\\Surely You're Joking, Mr. Feynman!\\: Adventures of a Curious Character',\n",
      "       '\\Well, there's your problem\\: Cartoons', 'iI Paradiso Degli Orchi',\n",
      "       'stardust', ' Jason, Madison &amp', ' Repairing PC Drives &amp',\n",
      "       'Ã?Â?bermorgen.'],\n",
      "      dtype='object', name='Book.Title', length=9658)\n"
     ]
    }
   ],
   "source": [
    "# Print the recommendations\n",
    "print(f\"Recommendations for '{book_title}':\")\n",
    "print(recommendations)"
   ]
  },
  {
   "cell_type": "code",
   "execution_count": null,
   "id": "da71114f",
   "metadata": {},
   "outputs": [],
   "source": []
  }
 ],
 "metadata": {
  "kernelspec": {
   "display_name": "Python 3 (ipykernel)",
   "language": "python",
   "name": "python3"
  },
  "language_info": {
   "codemirror_mode": {
    "name": "ipython",
    "version": 3
   },
   "file_extension": ".py",
   "mimetype": "text/x-python",
   "name": "python",
   "nbconvert_exporter": "python",
   "pygments_lexer": "ipython3",
   "version": "3.11.4"
  }
 },
 "nbformat": 4,
 "nbformat_minor": 5
}
